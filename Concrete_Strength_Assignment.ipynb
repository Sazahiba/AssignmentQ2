{
  "nbformat": 4,
  "nbformat_minor": 0,
  "metadata": {
    "colab": {
      "name": "Concrete Strength Assignment.ipynb",
      "provenance": [],
      "authorship_tag": "ABX9TyMUPsx1NVwMtru7UBQaRS6S",
      "include_colab_link": true
    },
    "kernelspec": {
      "name": "python3",
      "display_name": "Python 3"
    },
    "language_info": {
      "name": "python"
    }
  },
  "cells": [
    {
      "cell_type": "markdown",
      "metadata": {
        "id": "view-in-github",
        "colab_type": "text"
      },
      "source": [
        "<a href=\"https://colab.research.google.com/github/Sazahiba/AssignmentQ2/blob/main/Concrete_Strength_Assignment.ipynb\" target=\"_parent\"><img src=\"https://colab.research.google.com/assets/colab-badge.svg\" alt=\"Open In Colab\"/></a>"
      ]
    },
    {
      "cell_type": "code",
      "metadata": {
        "id": "0cmVyrMYVhT9"
      },
      "source": [
        "import tensorflow as tf\n",
        "import numpy as np\n",
        "import pandas as pd\n",
        "from tensorflow.keras import models, layers , optimizers"
      ],
      "execution_count": 1,
      "outputs": []
    },
    {
      "cell_type": "code",
      "metadata": {
        "colab": {
          "base_uri": "https://localhost:8080/"
        },
        "id": "X7k28SRdXM4R",
        "outputId": "9f99f2fd-48b7-4448-ecb2-efdc13c09129"
      },
      "source": [
        "from google.colab import drive\n",
        "drive.mount(\"/content/gdrive\")"
      ],
      "execution_count": 2,
      "outputs": [
        {
          "output_type": "stream",
          "text": [
            "Mounted at /content/gdrive\n"
          ],
          "name": "stdout"
        }
      ]
    },
    {
      "cell_type": "code",
      "metadata": {
        "id": "hqtzW5ExXTNl"
      },
      "source": [
        "df= pd.read_csv(\"/content/gdrive/MyDrive/DL Data Sets/compresive_strength_concrete.csv\")"
      ],
      "execution_count": 3,
      "outputs": []
    },
    {
      "cell_type": "code",
      "metadata": {
        "colab": {
          "base_uri": "https://localhost:8080/",
          "height": 255
        },
        "id": "lv3gi3DYXqQD",
        "outputId": "8bbf71b4-d4d4-4c54-c1a1-47c5deba5928"
      },
      "source": [
        "df.head()"
      ],
      "execution_count": 4,
      "outputs": [
        {
          "output_type": "execute_result",
          "data": {
            "text/html": [
              "<div>\n",
              "<style scoped>\n",
              "    .dataframe tbody tr th:only-of-type {\n",
              "        vertical-align: middle;\n",
              "    }\n",
              "\n",
              "    .dataframe tbody tr th {\n",
              "        vertical-align: top;\n",
              "    }\n",
              "\n",
              "    .dataframe thead th {\n",
              "        text-align: right;\n",
              "    }\n",
              "</style>\n",
              "<table border=\"1\" class=\"dataframe\">\n",
              "  <thead>\n",
              "    <tr style=\"text-align: right;\">\n",
              "      <th></th>\n",
              "      <th>Cement (component 1)(kg in a m^3 mixture)</th>\n",
              "      <th>Blast Furnace Slag (component 2)(kg in a m^3 mixture)</th>\n",
              "      <th>Fly Ash (component 3)(kg in a m^3 mixture)</th>\n",
              "      <th>Water  (component 4)(kg in a m^3 mixture)</th>\n",
              "      <th>Superplasticizer (component 5)(kg in a m^3 mixture)</th>\n",
              "      <th>Coarse Aggregate  (component 6)(kg in a m^3 mixture)</th>\n",
              "      <th>Fine Aggregate (component 7)(kg in a m^3 mixture)</th>\n",
              "      <th>Age (day)</th>\n",
              "      <th>Concrete compressive strength(MPa, megapascals)</th>\n",
              "    </tr>\n",
              "  </thead>\n",
              "  <tbody>\n",
              "    <tr>\n",
              "      <th>0</th>\n",
              "      <td>540.0</td>\n",
              "      <td>0.0</td>\n",
              "      <td>0.0</td>\n",
              "      <td>162.0</td>\n",
              "      <td>2.5</td>\n",
              "      <td>1040.0</td>\n",
              "      <td>676.0</td>\n",
              "      <td>28</td>\n",
              "      <td>79.99</td>\n",
              "    </tr>\n",
              "    <tr>\n",
              "      <th>1</th>\n",
              "      <td>540.0</td>\n",
              "      <td>0.0</td>\n",
              "      <td>0.0</td>\n",
              "      <td>162.0</td>\n",
              "      <td>2.5</td>\n",
              "      <td>1055.0</td>\n",
              "      <td>676.0</td>\n",
              "      <td>28</td>\n",
              "      <td>61.89</td>\n",
              "    </tr>\n",
              "    <tr>\n",
              "      <th>2</th>\n",
              "      <td>332.5</td>\n",
              "      <td>142.5</td>\n",
              "      <td>0.0</td>\n",
              "      <td>228.0</td>\n",
              "      <td>0.0</td>\n",
              "      <td>932.0</td>\n",
              "      <td>594.0</td>\n",
              "      <td>270</td>\n",
              "      <td>40.27</td>\n",
              "    </tr>\n",
              "    <tr>\n",
              "      <th>3</th>\n",
              "      <td>332.5</td>\n",
              "      <td>142.5</td>\n",
              "      <td>0.0</td>\n",
              "      <td>228.0</td>\n",
              "      <td>0.0</td>\n",
              "      <td>932.0</td>\n",
              "      <td>594.0</td>\n",
              "      <td>365</td>\n",
              "      <td>41.05</td>\n",
              "    </tr>\n",
              "    <tr>\n",
              "      <th>4</th>\n",
              "      <td>198.6</td>\n",
              "      <td>132.4</td>\n",
              "      <td>0.0</td>\n",
              "      <td>192.0</td>\n",
              "      <td>0.0</td>\n",
              "      <td>978.4</td>\n",
              "      <td>825.5</td>\n",
              "      <td>360</td>\n",
              "      <td>44.30</td>\n",
              "    </tr>\n",
              "  </tbody>\n",
              "</table>\n",
              "</div>"
            ],
            "text/plain": [
              "   Cement (component 1)(kg in a m^3 mixture)  ...  Concrete compressive strength(MPa, megapascals) \n",
              "0                                      540.0  ...                                             79.99\n",
              "1                                      540.0  ...                                             61.89\n",
              "2                                      332.5  ...                                             40.27\n",
              "3                                      332.5  ...                                             41.05\n",
              "4                                      198.6  ...                                             44.30\n",
              "\n",
              "[5 rows x 9 columns]"
            ]
          },
          "metadata": {
            "tags": []
          },
          "execution_count": 4
        }
      ]
    },
    {
      "cell_type": "code",
      "metadata": {
        "colab": {
          "base_uri": "https://localhost:8080/"
        },
        "id": "B2pFw_p5Xsp9",
        "outputId": "e6f50ee2-5ff8-4b77-8649-e7c9ce5c5dea"
      },
      "source": [
        "df.isnull().sum()"
      ],
      "execution_count": 5,
      "outputs": [
        {
          "output_type": "execute_result",
          "data": {
            "text/plain": [
              "Cement (component 1)(kg in a m^3 mixture)                0\n",
              "Blast Furnace Slag (component 2)(kg in a m^3 mixture)    0\n",
              "Fly Ash (component 3)(kg in a m^3 mixture)               0\n",
              "Water  (component 4)(kg in a m^3 mixture)                0\n",
              "Superplasticizer (component 5)(kg in a m^3 mixture)      0\n",
              "Coarse Aggregate  (component 6)(kg in a m^3 mixture)     0\n",
              "Fine Aggregate (component 7)(kg in a m^3 mixture)        0\n",
              "Age (day)                                                0\n",
              "Concrete compressive strength(MPa, megapascals)          0\n",
              "dtype: int64"
            ]
          },
          "metadata": {
            "tags": []
          },
          "execution_count": 5
        }
      ]
    },
    {
      "cell_type": "code",
      "metadata": {
        "colab": {
          "base_uri": "https://localhost:8080/",
          "height": 348
        },
        "id": "iqq_zAxxXzRJ",
        "outputId": "9c6b2e87-ecb3-40fb-839b-d7db258c5ccf"
      },
      "source": [
        "df.describe()"
      ],
      "execution_count": 6,
      "outputs": [
        {
          "output_type": "execute_result",
          "data": {
            "text/html": [
              "<div>\n",
              "<style scoped>\n",
              "    .dataframe tbody tr th:only-of-type {\n",
              "        vertical-align: middle;\n",
              "    }\n",
              "\n",
              "    .dataframe tbody tr th {\n",
              "        vertical-align: top;\n",
              "    }\n",
              "\n",
              "    .dataframe thead th {\n",
              "        text-align: right;\n",
              "    }\n",
              "</style>\n",
              "<table border=\"1\" class=\"dataframe\">\n",
              "  <thead>\n",
              "    <tr style=\"text-align: right;\">\n",
              "      <th></th>\n",
              "      <th>Cement (component 1)(kg in a m^3 mixture)</th>\n",
              "      <th>Blast Furnace Slag (component 2)(kg in a m^3 mixture)</th>\n",
              "      <th>Fly Ash (component 3)(kg in a m^3 mixture)</th>\n",
              "      <th>Water  (component 4)(kg in a m^3 mixture)</th>\n",
              "      <th>Superplasticizer (component 5)(kg in a m^3 mixture)</th>\n",
              "      <th>Coarse Aggregate  (component 6)(kg in a m^3 mixture)</th>\n",
              "      <th>Fine Aggregate (component 7)(kg in a m^3 mixture)</th>\n",
              "      <th>Age (day)</th>\n",
              "      <th>Concrete compressive strength(MPa, megapascals)</th>\n",
              "    </tr>\n",
              "  </thead>\n",
              "  <tbody>\n",
              "    <tr>\n",
              "      <th>count</th>\n",
              "      <td>1030.000000</td>\n",
              "      <td>1030.000000</td>\n",
              "      <td>1030.000000</td>\n",
              "      <td>1030.000000</td>\n",
              "      <td>1030.000000</td>\n",
              "      <td>1030.000000</td>\n",
              "      <td>1030.000000</td>\n",
              "      <td>1030.000000</td>\n",
              "      <td>1030.000000</td>\n",
              "    </tr>\n",
              "    <tr>\n",
              "      <th>mean</th>\n",
              "      <td>281.167864</td>\n",
              "      <td>73.895825</td>\n",
              "      <td>54.188350</td>\n",
              "      <td>181.567282</td>\n",
              "      <td>6.204660</td>\n",
              "      <td>972.918932</td>\n",
              "      <td>773.580485</td>\n",
              "      <td>45.662136</td>\n",
              "      <td>35.817961</td>\n",
              "    </tr>\n",
              "    <tr>\n",
              "      <th>std</th>\n",
              "      <td>104.506364</td>\n",
              "      <td>86.279342</td>\n",
              "      <td>63.997004</td>\n",
              "      <td>21.354219</td>\n",
              "      <td>5.973841</td>\n",
              "      <td>77.753954</td>\n",
              "      <td>80.175980</td>\n",
              "      <td>63.169912</td>\n",
              "      <td>16.705742</td>\n",
              "    </tr>\n",
              "    <tr>\n",
              "      <th>min</th>\n",
              "      <td>102.000000</td>\n",
              "      <td>0.000000</td>\n",
              "      <td>0.000000</td>\n",
              "      <td>121.800000</td>\n",
              "      <td>0.000000</td>\n",
              "      <td>801.000000</td>\n",
              "      <td>594.000000</td>\n",
              "      <td>1.000000</td>\n",
              "      <td>2.330000</td>\n",
              "    </tr>\n",
              "    <tr>\n",
              "      <th>25%</th>\n",
              "      <td>192.375000</td>\n",
              "      <td>0.000000</td>\n",
              "      <td>0.000000</td>\n",
              "      <td>164.900000</td>\n",
              "      <td>0.000000</td>\n",
              "      <td>932.000000</td>\n",
              "      <td>730.950000</td>\n",
              "      <td>7.000000</td>\n",
              "      <td>23.710000</td>\n",
              "    </tr>\n",
              "    <tr>\n",
              "      <th>50%</th>\n",
              "      <td>272.900000</td>\n",
              "      <td>22.000000</td>\n",
              "      <td>0.000000</td>\n",
              "      <td>185.000000</td>\n",
              "      <td>6.400000</td>\n",
              "      <td>968.000000</td>\n",
              "      <td>779.500000</td>\n",
              "      <td>28.000000</td>\n",
              "      <td>34.445000</td>\n",
              "    </tr>\n",
              "    <tr>\n",
              "      <th>75%</th>\n",
              "      <td>350.000000</td>\n",
              "      <td>142.950000</td>\n",
              "      <td>118.300000</td>\n",
              "      <td>192.000000</td>\n",
              "      <td>10.200000</td>\n",
              "      <td>1029.400000</td>\n",
              "      <td>824.000000</td>\n",
              "      <td>56.000000</td>\n",
              "      <td>46.135000</td>\n",
              "    </tr>\n",
              "    <tr>\n",
              "      <th>max</th>\n",
              "      <td>540.000000</td>\n",
              "      <td>359.400000</td>\n",
              "      <td>200.100000</td>\n",
              "      <td>247.000000</td>\n",
              "      <td>32.200000</td>\n",
              "      <td>1145.000000</td>\n",
              "      <td>992.600000</td>\n",
              "      <td>365.000000</td>\n",
              "      <td>82.600000</td>\n",
              "    </tr>\n",
              "  </tbody>\n",
              "</table>\n",
              "</div>"
            ],
            "text/plain": [
              "       Cement (component 1)(kg in a m^3 mixture)  ...  Concrete compressive strength(MPa, megapascals) \n",
              "count                                1030.000000  ...                                       1030.000000\n",
              "mean                                  281.167864  ...                                         35.817961\n",
              "std                                   104.506364  ...                                         16.705742\n",
              "min                                   102.000000  ...                                          2.330000\n",
              "25%                                   192.375000  ...                                         23.710000\n",
              "50%                                   272.900000  ...                                         34.445000\n",
              "75%                                   350.000000  ...                                         46.135000\n",
              "max                                   540.000000  ...                                         82.600000\n",
              "\n",
              "[8 rows x 9 columns]"
            ]
          },
          "metadata": {
            "tags": []
          },
          "execution_count": 6
        }
      ]
    },
    {
      "cell_type": "code",
      "metadata": {
        "colab": {
          "base_uri": "https://localhost:8080/"
        },
        "id": "XKVNvUUOX9iK",
        "outputId": "f7502974-bb13-4f68-c9de-ff0f2c381dca"
      },
      "source": [
        "df.info()"
      ],
      "execution_count": 7,
      "outputs": [
        {
          "output_type": "stream",
          "text": [
            "<class 'pandas.core.frame.DataFrame'>\n",
            "RangeIndex: 1030 entries, 0 to 1029\n",
            "Data columns (total 9 columns):\n",
            " #   Column                                                 Non-Null Count  Dtype  \n",
            "---  ------                                                 --------------  -----  \n",
            " 0   Cement (component 1)(kg in a m^3 mixture)              1030 non-null   float64\n",
            " 1   Blast Furnace Slag (component 2)(kg in a m^3 mixture)  1030 non-null   float64\n",
            " 2   Fly Ash (component 3)(kg in a m^3 mixture)             1030 non-null   float64\n",
            " 3   Water  (component 4)(kg in a m^3 mixture)              1030 non-null   float64\n",
            " 4   Superplasticizer (component 5)(kg in a m^3 mixture)    1030 non-null   float64\n",
            " 5   Coarse Aggregate  (component 6)(kg in a m^3 mixture)   1030 non-null   float64\n",
            " 6   Fine Aggregate (component 7)(kg in a m^3 mixture)      1030 non-null   float64\n",
            " 7   Age (day)                                              1030 non-null   int64  \n",
            " 8   Concrete compressive strength(MPa, megapascals)        1030 non-null   float64\n",
            "dtypes: float64(8), int64(1)\n",
            "memory usage: 72.5 KB\n"
          ],
          "name": "stdout"
        }
      ]
    },
    {
      "cell_type": "code",
      "metadata": {
        "colab": {
          "base_uri": "https://localhost:8080/"
        },
        "id": "sebzgkdpYCwE",
        "outputId": "78692b75-cff5-4981-8816-43d20770e47c"
      },
      "source": [
        "df.keys()# to gets columns name"
      ],
      "execution_count": 8,
      "outputs": [
        {
          "output_type": "execute_result",
          "data": {
            "text/plain": [
              "Index(['Cement (component 1)(kg in a m^3 mixture)',\n",
              "       'Blast Furnace Slag (component 2)(kg in a m^3 mixture)',\n",
              "       'Fly Ash (component 3)(kg in a m^3 mixture)',\n",
              "       'Water  (component 4)(kg in a m^3 mixture)',\n",
              "       'Superplasticizer (component 5)(kg in a m^3 mixture)',\n",
              "       'Coarse Aggregate  (component 6)(kg in a m^3 mixture)',\n",
              "       'Fine Aggregate (component 7)(kg in a m^3 mixture)', 'Age (day)',\n",
              "       'Concrete compressive strength(MPa, megapascals) '],\n",
              "      dtype='object')"
            ]
          },
          "metadata": {
            "tags": []
          },
          "execution_count": 8
        }
      ]
    },
    {
      "cell_type": "code",
      "metadata": {
        "id": "K4fQ7c8iYFf8"
      },
      "source": [
        "# split dataframe into input and output\n",
        "data=df.iloc[:,:8]\n",
        "\n",
        "targets=df.iloc[:,-1]"
      ],
      "execution_count": 9,
      "outputs": []
    },
    {
      "cell_type": "code",
      "metadata": {
        "colab": {
          "base_uri": "https://localhost:8080/",
          "height": 1000
        },
        "id": "LFD4EInNYJmq",
        "outputId": "8ea12135-d8c4-45c6-be1b-3d72997edad8"
      },
      "source": [
        "%matplotlib inline\n",
        "import matplotlib.pyplot as plt\n",
        "plt.style.use('ggplot')\n",
        "pd.DataFrame.hist(data, figsize = [30,30], color=\"Blue\")\n",
        "plt.show()"
      ],
      "execution_count": 11,
      "outputs": [
        {
          "output_type": "display_data",
          "data": {
            "image/png": "[encoded data removed]",
            "text/plain": [
              "<Figure size 2160x2160 with 9 Axes>"
            ]
          },
          "metadata": {
            "tags": []
          }
        }
      ]
    },
    {
      "cell_type": "code",
      "metadata": {
        "colab": {
          "base_uri": "https://localhost:8080/",
          "height": 445
        },
        "id": "2etOfrKJYMct",
        "outputId": "867b82c9-0a69-4838-f303-8681d559eaf6"
      },
      "source": [
        "plt.style.use('ggplot')\n",
        "targets.hist( figsize = [7,7], color=\"Green\")\n",
        "plt.title(\"Actual Targets\")\n",
        "plt.show()"
      ],
      "execution_count": 12,
      "outputs": [
        {
          "output_type": "display_data",
          "data": {
            "image/png": "[encoded data removed]",
            "text/plain": [
              "<Figure size 504x504 with 1 Axes>"
            ]
          },
          "metadata": {
            "tags": []
          }
        }
      ]
    },
    {
      "cell_type": "code",
      "metadata": {
        "id": "19dMBm-BYeKf"
      },
      "source": [
        "# standardized or normalized the data (input variables)\n",
        "mean = data.mean(axis=0)\n",
        "data-= mean\n",
        "std = data.std(axis=0)\n",
        "data/= std"
      ],
      "execution_count": 13,
      "outputs": []
    },
    {
      "cell_type": "code",
      "metadata": {
        "id": "oexYWBY6YevT"
      },
      "source": [
        "# data spliting using machine learning spliting method\n",
        "from sklearn.model_selection import train_test_split\n",
        "X_train,X_test,y_train,y_test=train_test_split(data,targets,random_state=0)"
      ],
      "execution_count": 14,
      "outputs": []
    },
    {
      "cell_type": "code",
      "metadata": {
        "colab": {
          "base_uri": "https://localhost:8080/"
        },
        "id": "k4fNE92NYhtx",
        "outputId": "6638f549-16f9-4a65-960b-b4aab6b77e60"
      },
      "source": [
        "print(f\"Shape of training data :{X_train.shape},\\nShape of training targets:{y_train.shape}\")"
      ],
      "execution_count": 15,
      "outputs": [
        {
          "output_type": "stream",
          "text": [
            "Shape of training data :(772, 8),\n",
            "Shape of training targets:(772,)\n"
          ],
          "name": "stdout"
        }
      ]
    },
    {
      "cell_type": "code",
      "metadata": {
        "colab": {
          "base_uri": "https://localhost:8080/"
        },
        "id": "8GNYRRCWYkp2",
        "outputId": "8b866b8f-c4fc-4bbd-8778-b11455eb93a3"
      },
      "source": [
        "print(f\"Shape of testing data :{X_test.shape},\\nShape of testing targets:{y_test.shape}\")"
      ],
      "execution_count": 16,
      "outputs": [
        {
          "output_type": "stream",
          "text": [
            "Shape of testing data :(258, 8),\n",
            "Shape of testing targets:(258,)\n"
          ],
          "name": "stdout"
        }
      ]
    },
    {
      "cell_type": "code",
      "metadata": {
        "id": "eCFHlBC9YnF6"
      },
      "source": [
        "X_train= np.asarray(X_train).astype('float32')\n",
        "X_test= np.asarray(X_test).astype('float32')"
      ],
      "execution_count": 17,
      "outputs": []
    },
    {
      "cell_type": "code",
      "metadata": {
        "id": "yMc7Rx5cYprw"
      },
      "source": [
        "val_X = X_train[:230]\n",
        "partial_X_train=X_train[230:]\n",
        "val_y=y_train[:230]\n",
        "partial_y_train=y_train[230:]"
      ],
      "execution_count": 18,
      "outputs": []
    },
    {
      "cell_type": "code",
      "metadata": {
        "id": "X9szwyPUYtmX"
      },
      "source": [
        "from keras import models, layers , optimizers"
      ],
      "execution_count": 19,
      "outputs": []
    },
    {
      "cell_type": "code",
      "metadata": {
        "id": "NOFcKDd1Yv4P"
      },
      "source": [
        "network=models.Sequential()\n",
        "network.add(tf.keras.layers.Dense(10,activation=\"relu\",input_shape=(X_train.shape[1],)))\n",
        "network.add(tf.keras.layers.Dense(8,activation=\"relu\"))\n",
        "network.add(tf.keras.layers.Dense(1))"
      ],
      "execution_count": 20,
      "outputs": []
    },
    {
      "cell_type": "code",
      "metadata": {
        "colab": {
          "base_uri": "https://localhost:8080/"
        },
        "id": "r8bR7v9zYyOp",
        "outputId": "e2d89ee5-39d5-400c-cc27-85419831196d"
      },
      "source": [
        "network.summary()"
      ],
      "execution_count": 21,
      "outputs": [
        {
          "output_type": "stream",
          "text": [
            "Model: \"sequential\"\n",
            "_________________________________________________________________\n",
            "Layer (type)                 Output Shape              Param #   \n",
            "=================================================================\n",
            "dense (Dense)                (None, 10)                90        \n",
            "_________________________________________________________________\n",
            "dense_1 (Dense)              (None, 8)                 88        \n",
            "_________________________________________________________________\n",
            "dense_2 (Dense)              (None, 1)                 9         \n",
            "=================================================================\n",
            "Total params: 187\n",
            "Trainable params: 187\n",
            "Non-trainable params: 0\n",
            "_________________________________________________________________\n"
          ],
          "name": "stdout"
        }
      ]
    },
    {
      "cell_type": "code",
      "metadata": {
        "id": "e9nJbYuaY0v-"
      },
      "source": [
        "network.compile(optimizer=optimizers.RMSprop(lr=0.001), loss=\"mse\",metrics=['mae'])"
      ],
      "execution_count": 22,
      "outputs": []
    },
    {
      "cell_type": "code",
      "metadata": {
        "colab": {
          "base_uri": "https://localhost:8080/"
        },
        "id": "uTpMB5F6Y5gg",
        "outputId": "12ac56b0-282c-47b7-809b-34d767730921"
      },
      "source": [
        "history=network.fit(partial_X_train,partial_y_train,epochs=10,validation_data=(val_X,val_y),batch_size=1,verbose=1)"
      ],
      "execution_count": 23,
      "outputs": [
        {
          "output_type": "stream",
          "text": [
            "Epoch 1/10\n",
            "542/542 [==============================] - 2s 2ms/step - loss: 1411.1891 - mae: 33.7936 - val_loss: 1158.0994 - val_mae: 29.9887\n",
            "Epoch 2/10\n",
            "542/542 [==============================] - 1s 1ms/step - loss: 762.6990 - mae: 23.1453 - val_loss: 406.7930 - val_mae: 16.4567\n",
            "Epoch 3/10\n",
            "542/542 [==============================] - 1s 1ms/step - loss: 308.6670 - mae: 13.9617 - val_loss: 242.2532 - val_mae: 12.5142\n",
            "Epoch 4/10\n",
            "542/542 [==============================] - 1s 1ms/step - loss: 210.6756 - mae: 11.8800 - val_loss: 200.9111 - val_mae: 11.1002\n",
            "Epoch 5/10\n",
            "542/542 [==============================] - 1s 1ms/step - loss: 169.3796 - mae: 10.6094 - val_loss: 181.3358 - val_mae: 10.6946\n",
            "Epoch 6/10\n",
            "542/542 [==============================] - 1s 1ms/step - loss: 171.2012 - mae: 10.5608 - val_loss: 168.5656 - val_mae: 10.4497\n",
            "Epoch 7/10\n",
            "542/542 [==============================] - 1s 1ms/step - loss: 145.7432 - mae: 9.8313 - val_loss: 163.1794 - val_mae: 10.0387\n",
            "Epoch 8/10\n",
            "542/542 [==============================] - 1s 1ms/step - loss: 159.7506 - mae: 9.8071 - val_loss: 156.4773 - val_mae: 9.8960\n",
            "Epoch 9/10\n",
            "542/542 [==============================] - 1s 1ms/step - loss: 150.2621 - mae: 9.6945 - val_loss: 152.1850 - val_mae: 9.8220\n",
            "Epoch 10/10\n",
            "542/542 [==============================] - 1s 1ms/step - loss: 144.6022 - mae: 9.3201 - val_loss: 149.1288 - val_mae: 9.7311\n"
          ],
          "name": "stdout"
        }
      ]
    },
    {
      "cell_type": "code",
      "metadata": {
        "colab": {
          "base_uri": "https://localhost:8080/",
          "height": 299
        },
        "id": "IKUPegFcY8Dr",
        "outputId": "b0956aa6-8072-4132-acb2-ee29c255b657"
      },
      "source": [
        "loss = history.history['loss']\n",
        "val_loss = history.history['val_loss']\n",
        "epochs = range(1, len(loss) + 1)\n",
        "plt.plot(epochs, loss, 'bo', label='Training loss')\n",
        "plt.plot(epochs, val_loss, 'b', label='Validation loss')\n",
        "plt.title('Training and validation loss')\n",
        "plt.xlabel('Epochs')\n",
        "plt.ylabel('Loss')\n",
        "plt.legend()\n",
        "plt.show()"
      ],
      "execution_count": 24,
      "outputs": [
        {
          "output_type": "display_data",
          "data": {
            "image/png": "[encoded data removed]",
            "text/plain": [
              "<Figure size 432x288 with 1 Axes>"
            ]
          },
          "metadata": {
            "tags": []
          }
        }
      ]
    },
    {
      "cell_type": "code",
      "metadata": {
        "colab": {
          "base_uri": "https://localhost:8080/"
        },
        "id": "q7TMYe0uZCUW",
        "outputId": "c1a8cef5-c4ea-41d6-f08b-86105e1619ad"
      },
      "source": [
        "all_mae_histories=[]\n",
        "mae_history = history.history['val_mae']\n",
        "all_mae_histories.append(mae_history)\n",
        "print(all_mae_histories)"
      ],
      "execution_count": 25,
      "outputs": [
        {
          "output_type": "stream",
          "text": [
            "[[29.988698959350586, 16.45673179626465, 12.514239311218262, 11.100163459777832, 10.694561004638672, 10.44965934753418, 10.038702011108398, 9.896024703979492, 9.822038650512695, 9.731135368347168]]\n"
          ],
          "name": "stdout"
        }
      ]
    },
    {
      "cell_type": "code",
      "metadata": {
        "colab": {
          "base_uri": "https://localhost:8080/"
        },
        "id": "CTf0IJwuZHZW",
        "outputId": "dc49f2d8-f4ef-4244-eb82-34349d8e5d09"
      },
      "source": [
        "average_mae_history = [np.mean([x[i] for x in all_mae_histories]) for i in range(2)]\n",
        "print(average_mae_history)"
      ],
      "execution_count": 26,
      "outputs": [
        {
          "output_type": "stream",
          "text": [
            "[29.988698959350586, 16.45673179626465]\n"
          ],
          "name": "stdout"
        }
      ]
    },
    {
      "cell_type": "code",
      "metadata": {
        "colab": {
          "base_uri": "https://localhost:8080/",
          "height": 299
        },
        "id": "-ZTvE79mZLTY",
        "outputId": "62d4af1c-e59f-4f9f-b985-702a611a3101"
      },
      "source": [
        "plt.plot(range(1, len(average_mae_history) + 1), average_mae_history)\n",
        "plt.title('Validation MAE by Epochs')\n",
        "plt.xlabel('Epochs')\n",
        "plt.ylabel('Validation MAE')\n",
        "plt.grid()\n",
        "plt.show()"
      ],
      "execution_count": 27,
      "outputs": [
        {
          "output_type": "display_data",
          "data": {
            "image/png": "[encoded data removed]",
            "text/plain": [
              "<Figure size 432x288 with 1 Axes>"
            ]
          },
          "metadata": {
            "tags": []
          }
        }
      ]
    },
    {
      "cell_type": "code",
      "metadata": {
        "colab": {
          "base_uri": "https://localhost:8080/"
        },
        "id": "yolj_uYTZOTu",
        "outputId": "d047e3f9-0bfb-4fa4-e205-4a9157c3d0ba"
      },
      "source": [
        "test_mse_score, test_mae_score = network.evaluate(X_test, y_test)"
      ],
      "execution_count": 28,
      "outputs": [
        {
          "output_type": "stream",
          "text": [
            "9/9 [==============================] - 0s 2ms/step - loss: 127.6457 - mae: 9.1850\n"
          ],
          "name": "stdout"
        }
      ]
    },
    {
      "cell_type": "code",
      "metadata": {
        "colab": {
          "base_uri": "https://localhost:8080/"
        },
        "id": "x-V9etKUZRvv",
        "outputId": "2908f54c-d551-4bef-b758-a00c5f940487"
      },
      "source": [
        "test_mae_score"
      ],
      "execution_count": 29,
      "outputs": [
        {
          "output_type": "execute_result",
          "data": {
            "text/plain": [
              "9.185037612915039"
            ]
          },
          "metadata": {
            "tags": []
          },
          "execution_count": 29
        }
      ]
    },
    {
      "cell_type": "code",
      "metadata": {
        "colab": {
          "base_uri": "https://localhost:8080/"
        },
        "id": "QDRbrLDcZVTu",
        "outputId": "9696f93f-49c0-49d9-9d18-ab79a60c5902"
      },
      "source": [
        "y_pred = network.predict(X_test)\n",
        "y_pred"
      ],
      "execution_count": 30,
      "outputs": [
        {
          "output_type": "execute_result",
          "data": {
            "text/plain": [
              "array([[32.553932],\n",
              "       [12.991623],\n",
              "       [59.361076],\n",
              "       [44.851646],\n",
              "       [20.643621],\n",
              "       [60.157078],\n",
              "       [49.49456 ],\n",
              "       [30.744959],\n",
              "       [50.492428],\n",
              "       [41.93923 ],\n",
              "       [21.491652],\n",
              "       [41.084103],\n",
              "       [21.706724],\n",
              "       [27.182354],\n",
              "       [51.02038 ],\n",
              "       [52.852833],\n",
              "       [35.15529 ],\n",
              "       [26.339579],\n",
              "       [43.474487],\n",
              "       [26.259113],\n",
              "       [44.512463],\n",
              "       [35.522682],\n",
              "       [29.598331],\n",
              "       [43.024456],\n",
              "       [19.9173  ],\n",
              "       [20.164469],\n",
              "       [84.18961 ],\n",
              "       [30.21506 ],\n",
              "       [52.852833],\n",
              "       [47.72737 ],\n",
              "       [21.142073],\n",
              "       [35.523026],\n",
              "       [14.331239],\n",
              "       [27.371231],\n",
              "       [21.31965 ],\n",
              "       [13.653662],\n",
              "       [59.818565],\n",
              "       [27.52802 ],\n",
              "       [24.035677],\n",
              "       [26.072193],\n",
              "       [52.334297],\n",
              "       [27.399914],\n",
              "       [23.883268],\n",
              "       [30.241774],\n",
              "       [48.61396 ],\n",
              "       [54.008713],\n",
              "       [25.859268],\n",
              "       [37.049168],\n",
              "       [36.985283],\n",
              "       [66.01885 ],\n",
              "       [34.941452],\n",
              "       [17.438826],\n",
              "       [27.561262],\n",
              "       [26.952303],\n",
              "       [38.629692],\n",
              "       [36.115685],\n",
              "       [33.05061 ],\n",
              "       [48.14548 ],\n",
              "       [59.743744],\n",
              "       [33.83521 ],\n",
              "       [26.94023 ],\n",
              "       [15.458346],\n",
              "       [40.073906],\n",
              "       [63.013367],\n",
              "       [14.24217 ],\n",
              "       [45.281013],\n",
              "       [27.534649],\n",
              "       [36.90735 ],\n",
              "       [24.195211],\n",
              "       [18.928064],\n",
              "       [30.084085],\n",
              "       [30.575642],\n",
              "       [54.38436 ],\n",
              "       [20.278137],\n",
              "       [27.638134],\n",
              "       [46.454765],\n",
              "       [23.010725],\n",
              "       [16.136084],\n",
              "       [21.255482],\n",
              "       [22.547602],\n",
              "       [20.568022],\n",
              "       [42.80088 ],\n",
              "       [30.131285],\n",
              "       [25.538708],\n",
              "       [30.51761 ],\n",
              "       [31.360043],\n",
              "       [39.32878 ],\n",
              "       [40.04086 ],\n",
              "       [38.65185 ],\n",
              "       [34.772793],\n",
              "       [48.325043],\n",
              "       [15.651142],\n",
              "       [29.554539],\n",
              "       [37.280376],\n",
              "       [33.628418],\n",
              "       [60.774246],\n",
              "       [27.329306],\n",
              "       [31.702774],\n",
              "       [42.770367],\n",
              "       [23.839533],\n",
              "       [19.655573],\n",
              "       [36.37841 ],\n",
              "       [19.617174],\n",
              "       [32.171215],\n",
              "       [35.712036],\n",
              "       [32.16763 ],\n",
              "       [31.482256],\n",
              "       [33.43873 ],\n",
              "       [23.192366],\n",
              "       [36.742325],\n",
              "       [16.778755],\n",
              "       [60.395733],\n",
              "       [22.168951],\n",
              "       [25.074966],\n",
              "       [41.33931 ],\n",
              "       [57.39644 ],\n",
              "       [27.266825],\n",
              "       [37.569958],\n",
              "       [38.20194 ],\n",
              "       [23.793482],\n",
              "       [35.326355],\n",
              "       [25.180378],\n",
              "       [63.909737],\n",
              "       [18.42924 ],\n",
              "       [27.086832],\n",
              "       [17.255877],\n",
              "       [19.053057],\n",
              "       [16.580519],\n",
              "       [38.369896],\n",
              "       [25.697016],\n",
              "       [29.832151],\n",
              "       [53.02011 ],\n",
              "       [24.310835],\n",
              "       [32.36149 ],\n",
              "       [18.98049 ],\n",
              "       [46.691704],\n",
              "       [69.78621 ],\n",
              "       [32.20011 ],\n",
              "       [15.462911],\n",
              "       [17.072866],\n",
              "       [36.787537],\n",
              "       [52.795692],\n",
              "       [24.323355],\n",
              "       [30.396276],\n",
              "       [22.314503],\n",
              "       [38.1121  ],\n",
              "       [36.903004],\n",
              "       [17.073399],\n",
              "       [24.655062],\n",
              "       [21.140818],\n",
              "       [18.119114],\n",
              "       [36.156044],\n",
              "       [21.301605],\n",
              "       [26.674171],\n",
              "       [28.837408],\n",
              "       [25.772034],\n",
              "       [43.17128 ],\n",
              "       [26.223745],\n",
              "       [27.08596 ],\n",
              "       [19.108686],\n",
              "       [39.435547],\n",
              "       [32.475925],\n",
              "       [28.748991],\n",
              "       [21.498323],\n",
              "       [38.19548 ],\n",
              "       [14.55123 ],\n",
              "       [65.91045 ],\n",
              "       [49.267437],\n",
              "       [66.07305 ],\n",
              "       [14.509476],\n",
              "       [35.714043],\n",
              "       [25.964092],\n",
              "       [20.351353],\n",
              "       [68.21495 ],\n",
              "       [21.9125  ],\n",
              "       [17.301102],\n",
              "       [27.805784],\n",
              "       [46.79325 ],\n",
              "       [21.678091],\n",
              "       [40.893192],\n",
              "       [28.104774],\n",
              "       [31.884436],\n",
              "       [17.493134],\n",
              "       [39.00913 ],\n",
              "       [28.47294 ],\n",
              "       [40.927803],\n",
              "       [40.241676],\n",
              "       [35.02305 ],\n",
              "       [29.960619],\n",
              "       [40.07391 ],\n",
              "       [18.971544],\n",
              "       [87.67798 ],\n",
              "       [44.235344],\n",
              "       [26.282873],\n",
              "       [14.759399],\n",
              "       [24.7992  ],\n",
              "       [30.329447],\n",
              "       [29.015059],\n",
              "       [23.835136],\n",
              "       [57.31166 ],\n",
              "       [16.25256 ],\n",
              "       [19.60743 ],\n",
              "       [44.16719 ],\n",
              "       [28.632315],\n",
              "       [27.603039],\n",
              "       [15.873639],\n",
              "       [37.787056],\n",
              "       [25.727634],\n",
              "       [35.76796 ],\n",
              "       [19.355646],\n",
              "       [42.287907],\n",
              "       [18.487446],\n",
              "       [21.932024],\n",
              "       [20.065323],\n",
              "       [31.808489],\n",
              "       [25.389805],\n",
              "       [16.996058],\n",
              "       [32.34805 ],\n",
              "       [17.685694],\n",
              "       [37.268547],\n",
              "       [54.26113 ],\n",
              "       [28.675592],\n",
              "       [38.734337],\n",
              "       [37.854706],\n",
              "       [44.338158],\n",
              "       [30.376902],\n",
              "       [20.28838 ],\n",
              "       [29.943663],\n",
              "       [31.949602],\n",
              "       [38.284283],\n",
              "       [36.228493],\n",
              "       [36.781654],\n",
              "       [66.79327 ],\n",
              "       [20.247389],\n",
              "       [42.01158 ],\n",
              "       [28.316847],\n",
              "       [30.819735],\n",
              "       [34.41713 ],\n",
              "       [26.728155],\n",
              "       [61.131306],\n",
              "       [65.62527 ],\n",
              "       [33.202614],\n",
              "       [39.20072 ],\n",
              "       [30.331392],\n",
              "       [25.385933],\n",
              "       [23.232088],\n",
              "       [39.750656],\n",
              "       [22.892845],\n",
              "       [30.991255],\n",
              "       [15.742136],\n",
              "       [14.800804],\n",
              "       [38.76287 ],\n",
              "       [42.88291 ],\n",
              "       [33.605804],\n",
              "       [34.95899 ],\n",
              "       [19.317444],\n",
              "       [29.855696],\n",
              "       [16.812576]], dtype=float32)"
            ]
          },
          "metadata": {
            "tags": []
          },
          "execution_count": 30
        }
      ]
    },
    {
      "cell_type": "code",
      "metadata": {
        "colab": {
          "base_uri": "https://localhost:8080/"
        },
        "id": "TrsQA1MiZXm6",
        "outputId": "4cbabeed-6088-4ed0-86f8-dc846070ae5b"
      },
      "source": [
        "y_test"
      ],
      "execution_count": 31,
      "outputs": [
        {
          "output_type": "execute_result",
          "data": {
            "text/plain": [
              "747    26.06\n",
              "718    10.35\n",
              "175    79.30\n",
              "828    74.99\n",
              "713     9.69\n",
              "       ...  \n",
              "453    31.72\n",
              "906    39.42\n",
              "757    18.13\n",
              "875    18.28\n",
              "62      9.87\n",
              "Name: Concrete compressive strength(MPa, megapascals) , Length: 258, dtype: float64"
            ]
          },
          "metadata": {
            "tags": []
          },
          "execution_count": 31
        }
      ]
    },
    {
      "cell_type": "code",
      "metadata": {
        "colab": {
          "base_uri": "https://localhost:8080/",
          "height": 337
        },
        "id": "47iGJcf5ZeUK",
        "outputId": "6ff15020-391b-4192-cb34-fa1d80330368"
      },
      "source": [
        "plt.figure(figsize=(20,5))\n",
        "plt.subplot(1, 2, 1 )\n",
        "plt.hist(targets)\n",
        "plt.xlabel('original target value')\n",
        "plt.ylabel('count')\n",
        "plt.subplot(1, 2, 2)\n",
        "plt.hist(y_pred)\n",
        "plt.xlabel('aggregated target value')\n",
        "plt.show()"
      ],
      "execution_count": 32,
      "outputs": [
        {
          "output_type": "display_data",
          "data": {
            "image/png": "[encoded data removed]",
            "text/plain": [
              "<Figure size 1440x360 with 2 Axes>"
            ]
          },
          "metadata": {
            "tags": []
          }
        }
      ]
    },
    {
      "cell_type": "code",
      "metadata": {
        "id": "nYaCXD5bZjdf"
      },
      "source": [
        ""
      ],
      "execution_count": null,
      "outputs": []
    }
  ]
}