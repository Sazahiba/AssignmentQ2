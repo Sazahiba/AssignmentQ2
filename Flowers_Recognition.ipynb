{
  "nbformat": 4,
  "nbformat_minor": 0,
  "metadata": {
    "colab": {
      "name": "Flowers Recognition.ipynb",
      "provenance": [],
      "authorship_tag": "ABX9TyOw85c2sz0ALxQYUeyuYz6d",
      "include_colab_link": true
    },
    "kernelspec": {
      "name": "python3",
      "display_name": "Python 3"
    },
    "language_info": {
      "name": "python"
    }
  },
  "cells": [
    {
      "cell_type": "markdown",
      "metadata": {
        "id": "view-in-github",
        "colab_type": "text"
      },
      "source": [
        "<a href=\"https://colab.research.google.com/github/Sazahiba/AssignmentQ2/blob/main/Flowers_Recognition.ipynb\" target=\"_parent\"><img src=\"https://colab.research.google.com/assets/colab-badge.svg\" alt=\"Open In Colab\"/></a>"
      ]
    },
    {
      "cell_type": "code",
      "metadata": {
        "id": "Ul86anS2ES5s"
      },
      "source": [
        "import matplotlib.pyplot as plt\n",
        "import numpy as np\n",
        "import cv2\n",
        "import pandas as pd\n",
        "import pathlib\n",
        "from pathlib import Path"
      ],
      "execution_count": 1,
      "outputs": []
    },
    {
      "cell_type": "code",
      "metadata": {
        "colab": {
          "base_uri": "https://localhost:8080/"
        },
        "id": "3jy3IDRCEZEM",
        "outputId": "c09d7090-3b2a-4c6e-feea-98e364183083"
      },
      "source": [
        "from google.colab import drive\n",
        "drive.mount(\"/content/drive\")"
      ],
      "execution_count": 2,
      "outputs": [
        {
          "output_type": "stream",
          "text": [
            "Mounted at /content/drive\n"
          ],
          "name": "stdout"
        }
      ]
    },
    {
      "cell_type": "code",
      "metadata": {
        "colab": {
          "base_uri": "https://localhost:8080/"
        },
        "id": "Uum0J1PMEcjV",
        "outputId": "1ec44aea-b612-43f6-aee0-824961d72df6"
      },
      "source": [
        "# Loading Data And Defining Features And Labels\n",
        "directory = Path(\"/content/drive/MyDrive/DL Data Sets/flowers\")\n",
        "\n",
        "image_names = []\n",
        "data_images = []\n",
        "labels = []\n",
        "\n",
        "# Iterating Over Directory To Extract Sub Directories\n",
        "for dir in directory.iterdir():\n",
        "  image_names.append(dir.name)\n",
        "  print(dir.name)\n",
        "# Iterating Over Sub Directories To Extract Lables\n",
        "  for imgpath in dir.iterdir():\n",
        "    if imgpath.name.endswith(\"jpg\"):\n",
        "      labels.append(dir.name)\n",
        "      imgarr = cv2.imread(str(imgpath), cv2.IMREAD_GRAYSCALE)\n",
        "      imgarr = cv2.resize(imgarr, (320,240))\n",
        "      data_images.append(imgarr)"
      ],
      "execution_count": 3,
      "outputs": [
        {
          "output_type": "stream",
          "text": [
            "rose\n",
            "dandelion\n",
            "daisy\n",
            "flowers\n",
            "sunflower\n",
            "tulip\n"
          ],
          "name": "stdout"
        }
      ]
    },
    {
      "cell_type": "code",
      "metadata": {
        "id": "RqCzo2KBGfrI"
      },
      "source": [
        "# maping the string label into numeric \n",
        "df=pd.DataFrame(labels)\n",
        "labels=df[0].map({\"rose\":0,\"sunflower\":1,\"tulip\":2,\"daisy\":3,\"dandelion\":4})"
      ],
      "execution_count": 4,
      "outputs": []
    },
    {
      "cell_type": "code",
      "metadata": {
        "id": "JFtqKDKtHjFH"
      },
      "source": [
        "# data and label spliting by machine learning libarary\n",
        "import sklearn\n",
        "from sklearn.model_selection import train_test_split\n",
        "X_train,X_test,y_train,y_test=train_test_split(data_images,labels,test_size=.40,random_state=0)"
      ],
      "execution_count": 5,
      "outputs": []
    },
    {
      "cell_type": "code",
      "metadata": {
        "id": "w14NWt2THl09"
      },
      "source": [
        "#convert data into numpy array and data type float\n",
        "X_train=np.asarray(X_train).astype(\"float32\")\n",
        "X_test=np.asarray(X_test).astype(\"float32\")"
      ],
      "execution_count": 6,
      "outputs": []
    },
    {
      "cell_type": "code",
      "metadata": {
        "colab": {
          "base_uri": "https://localhost:8080/"
        },
        "id": "4khxmyENHoIP",
        "outputId": "2fcac5c1-d455-46e1-d3e6-5e26fa29b4dd"
      },
      "source": [
        "# Check the shape of training data,testing data,training labels,testing labels\n",
        "print(f\"shape of training data is :{X_train.shape}\\nshape of training label is :{y_train.shape}\\nshape of testing data is :{X_test.shape}\\nshape of testing label is :{y_test.shape}\")"
      ],
      "execution_count": 7,
      "outputs": [
        {
          "output_type": "stream",
          "text": [
            "shape of training data is :(2593, 240, 320)\n",
            "shape of training label is :(2593,)\n",
            "shape of testing data is :(1730, 240, 320)\n",
            "shape of testing label is :(1730,)\n"
          ],
          "name": "stdout"
        }
      ]
    },
    {
      "cell_type": "code",
      "metadata": {
        "id": "4tbFAGZwHvv9"
      },
      "source": [
        "#reshaping\n",
        "X_train=X_train.reshape(2593,320*240)\n",
        "X_test=X_test.reshape(1730,320*240)"
      ],
      "execution_count": 8,
      "outputs": []
    },
    {
      "cell_type": "code",
      "metadata": {
        "colab": {
          "base_uri": "https://localhost:8080/"
        },
        "id": "jTn2fGMYHyXF",
        "outputId": "583b7591-7982-431a-8770-5837dcc562b5"
      },
      "source": [
        "#check value of train data\n",
        "X_train[0]"
      ],
      "execution_count": 9,
      "outputs": [
        {
          "output_type": "execute_result",
          "data": {
            "text/plain": [
              "array([255., 255., 255., ..., 121., 125., 125.], dtype=float32)"
            ]
          },
          "metadata": {
            "tags": []
          },
          "execution_count": 9
        }
      ]
    },
    {
      "cell_type": "code",
      "metadata": {
        "colab": {
          "base_uri": "https://localhost:8080/"
        },
        "id": "W-a_nBtwH1Kw",
        "outputId": "d89dd6a1-03f6-4221-f5ac-e472d3e5cc27"
      },
      "source": [
        "#check value of test data\n",
        "X_test[0]"
      ],
      "execution_count": 10,
      "outputs": [
        {
          "output_type": "execute_result",
          "data": {
            "text/plain": [
              "array([0., 0., 0., ..., 0., 0., 0.], dtype=float32)"
            ]
          },
          "metadata": {
            "tags": []
          },
          "execution_count": 10
        }
      ]
    },
    {
      "cell_type": "code",
      "metadata": {
        "id": "bVbjq0vaH3Mz"
      },
      "source": [
        "#normalize the data\n",
        "X_train=X_train/255.0\n",
        "X_test=X_test/255.0"
      ],
      "execution_count": 11,
      "outputs": []
    },
    {
      "cell_type": "code",
      "metadata": {
        "id": "JnFMn7XuH6Zc"
      },
      "source": [
        "from keras.utils import to_categorical\n",
        "y_train=to_categorical(y_train)\n",
        "y_test=to_categorical(y_test)"
      ],
      "execution_count": 14,
      "outputs": []
    },
    {
      "cell_type": "code",
      "metadata": {
        "id": "MRrPAsaSH8Yu"
      },
      "source": [
        "# importing keras libararies\n",
        "from tensorflow.keras.models import Sequential\n",
        "from tensorflow.keras.layers import Dense, Dropout\n",
        "from keras.optimizers import Adam, RMSprop"
      ],
      "execution_count": 15,
      "outputs": []
    },
    {
      "cell_type": "code",
      "metadata": {
        "id": "og7_QnTuIOi-"
      },
      "source": [
        "#model building\n",
        "network=Sequential()\n",
        "network.add(Dense(256,activation=\"relu\",input_shape=(X_train.shape[1],)))\n",
        "network.add(Dropout(0.2))\n",
        "network.add(Dense(128,activation=\"relu\"))\n",
        "#network.add(Dropout(0.2))\n",
        "network.add(Dense(64,activation=\"relu\"))\n",
        "network.add(Dropout(0.2))\n",
        "network.add(Dense(5,activation=\"softmax\"))"
      ],
      "execution_count": 16,
      "outputs": []
    },
    {
      "cell_type": "code",
      "metadata": {
        "colab": {
          "base_uri": "https://localhost:8080/"
        },
        "id": "Imhelh0MIRSV",
        "outputId": "c10472d2-f87e-41f9-b914-fd80fe5a8da1"
      },
      "source": [
        "#model summary\n",
        "network.summary()"
      ],
      "execution_count": 17,
      "outputs": [
        {
          "output_type": "stream",
          "text": [
            "Model: \"sequential\"\n",
            "_________________________________________________________________\n",
            "Layer (type)                 Output Shape              Param #   \n",
            "=================================================================\n",
            "dense (Dense)                (None, 256)               19661056  \n",
            "_________________________________________________________________\n",
            "dropout (Dropout)            (None, 256)               0         \n",
            "_________________________________________________________________\n",
            "dense_1 (Dense)              (None, 128)               32896     \n",
            "_________________________________________________________________\n",
            "dense_2 (Dense)              (None, 64)                8256      \n",
            "_________________________________________________________________\n",
            "dropout_1 (Dropout)          (None, 64)                0         \n",
            "_________________________________________________________________\n",
            "dense_3 (Dense)              (None, 5)                 325       \n",
            "=================================================================\n",
            "Total params: 19,702,533\n",
            "Trainable params: 19,702,533\n",
            "Non-trainable params: 0\n",
            "_________________________________________________________________\n"
          ],
          "name": "stdout"
        }
      ]
    },
    {
      "cell_type": "code",
      "metadata": {
        "id": "4oqex2eFITkE"
      },
      "source": [
        "# Compilation Step\n",
        "network.compile(optimizer=RMSprop(0.0001), loss = 'categorical_crossentropy', metrics = ['accuracy'])"
      ],
      "execution_count": 18,
      "outputs": []
    },
    {
      "cell_type": "code",
      "metadata": {
        "colab": {
          "base_uri": "https://localhost:8080/"
        },
        "id": "rYzRt00IIa-o",
        "outputId": "62d80d45-ed3b-4e63-fc32-65946eb035f5"
      },
      "source": [
        "history=network.fit(X_train, y_train,batch_size=20,epochs=100)"
      ],
      "execution_count": 19,
      "outputs": [
        {
          "output_type": "stream",
          "text": [
            "Epoch 1/100\n",
            "130/130 [==============================] - 22s 160ms/step - loss: 2.8506 - accuracy: 0.2227\n",
            "Epoch 2/100\n",
            "130/130 [==============================] - 21s 159ms/step - loss: 1.6789 - accuracy: 0.2511\n",
            "Epoch 3/100\n",
            "130/130 [==============================] - 21s 159ms/step - loss: 1.6194 - accuracy: 0.2420\n",
            "Epoch 4/100\n",
            "130/130 [==============================] - 21s 159ms/step - loss: 1.5719 - accuracy: 0.2704\n",
            "Epoch 5/100\n",
            "130/130 [==============================] - 21s 160ms/step - loss: 1.5848 - accuracy: 0.2733\n",
            "Epoch 6/100\n",
            "130/130 [==============================] - 21s 159ms/step - loss: 1.5631 - accuracy: 0.2892\n",
            "Epoch 7/100\n",
            "130/130 [==============================] - 21s 160ms/step - loss: 1.5432 - accuracy: 0.2804\n",
            "Epoch 8/100\n",
            "130/130 [==============================] - 21s 160ms/step - loss: 1.5560 - accuracy: 0.2909\n",
            "Epoch 9/100\n",
            "130/130 [==============================] - 21s 159ms/step - loss: 1.5608 - accuracy: 0.2744\n",
            "Epoch 10/100\n",
            "130/130 [==============================] - 21s 159ms/step - loss: 1.5452 - accuracy: 0.2885\n",
            "Epoch 11/100\n",
            "130/130 [==============================] - 21s 159ms/step - loss: 1.5460 - accuracy: 0.2836\n",
            "Epoch 12/100\n",
            "130/130 [==============================] - 21s 159ms/step - loss: 1.5180 - accuracy: 0.2984\n",
            "Epoch 13/100\n",
            "130/130 [==============================] - 21s 159ms/step - loss: 1.5342 - accuracy: 0.2926\n",
            "Epoch 14/100\n",
            "130/130 [==============================] - 21s 159ms/step - loss: 1.5313 - accuracy: 0.2974\n",
            "Epoch 15/100\n",
            "130/130 [==============================] - 21s 159ms/step - loss: 1.5494 - accuracy: 0.2888\n",
            "Epoch 16/100\n",
            "130/130 [==============================] - 21s 160ms/step - loss: 1.5075 - accuracy: 0.3118\n",
            "Epoch 17/100\n",
            "130/130 [==============================] - 21s 159ms/step - loss: 1.5091 - accuracy: 0.3057\n",
            "Epoch 18/100\n",
            "130/130 [==============================] - 21s 160ms/step - loss: 1.4940 - accuracy: 0.3205\n",
            "Epoch 19/100\n",
            "130/130 [==============================] - 21s 159ms/step - loss: 1.4861 - accuracy: 0.3019\n",
            "Epoch 20/100\n",
            "130/130 [==============================] - 21s 160ms/step - loss: 1.4941 - accuracy: 0.3081\n",
            "Epoch 21/100\n",
            "130/130 [==============================] - 21s 159ms/step - loss: 1.4711 - accuracy: 0.3422\n",
            "Epoch 22/100\n",
            "130/130 [==============================] - 21s 160ms/step - loss: 1.4962 - accuracy: 0.3159\n",
            "Epoch 23/100\n",
            "130/130 [==============================] - 21s 159ms/step - loss: 1.4707 - accuracy: 0.3274\n",
            "Epoch 24/100\n",
            "130/130 [==============================] - 21s 159ms/step - loss: 1.4758 - accuracy: 0.3321\n",
            "Epoch 25/100\n",
            "130/130 [==============================] - 21s 159ms/step - loss: 1.4684 - accuracy: 0.3338\n",
            "Epoch 26/100\n",
            "130/130 [==============================] - 21s 159ms/step - loss: 1.4394 - accuracy: 0.3544\n",
            "Epoch 27/100\n",
            "130/130 [==============================] - 21s 159ms/step - loss: 1.4622 - accuracy: 0.3328\n",
            "Epoch 28/100\n",
            "130/130 [==============================] - 21s 159ms/step - loss: 1.4414 - accuracy: 0.3286\n",
            "Epoch 29/100\n",
            "130/130 [==============================] - 21s 159ms/step - loss: 1.4452 - accuracy: 0.3175\n",
            "Epoch 30/100\n",
            "130/130 [==============================] - 21s 159ms/step - loss: 1.4286 - accuracy: 0.3574\n",
            "Epoch 31/100\n",
            "130/130 [==============================] - 21s 160ms/step - loss: 1.4445 - accuracy: 0.3298\n",
            "Epoch 32/100\n",
            "130/130 [==============================] - 21s 160ms/step - loss: 1.4218 - accuracy: 0.3543\n",
            "Epoch 33/100\n",
            "130/130 [==============================] - 21s 159ms/step - loss: 1.4320 - accuracy: 0.3608\n",
            "Epoch 34/100\n",
            "130/130 [==============================] - 21s 159ms/step - loss: 1.4061 - accuracy: 0.3883\n",
            "Epoch 35/100\n",
            "130/130 [==============================] - 21s 160ms/step - loss: 1.4293 - accuracy: 0.3658\n",
            "Epoch 36/100\n",
            "130/130 [==============================] - 21s 160ms/step - loss: 1.4004 - accuracy: 0.3530\n",
            "Epoch 37/100\n",
            "130/130 [==============================] - 21s 160ms/step - loss: 1.3942 - accuracy: 0.3737\n",
            "Epoch 38/100\n",
            "130/130 [==============================] - 21s 159ms/step - loss: 1.4056 - accuracy: 0.3654\n",
            "Epoch 39/100\n",
            "130/130 [==============================] - 21s 159ms/step - loss: 1.3913 - accuracy: 0.3863\n",
            "Epoch 40/100\n",
            "130/130 [==============================] - 21s 160ms/step - loss: 1.3786 - accuracy: 0.3881\n",
            "Epoch 41/100\n",
            "130/130 [==============================] - 21s 159ms/step - loss: 1.3906 - accuracy: 0.3827\n",
            "Epoch 42/100\n",
            "130/130 [==============================] - 21s 159ms/step - loss: 1.3929 - accuracy: 0.4073\n",
            "Epoch 43/100\n",
            "130/130 [==============================] - 21s 160ms/step - loss: 1.3629 - accuracy: 0.4112\n",
            "Epoch 44/100\n",
            "130/130 [==============================] - 21s 159ms/step - loss: 1.3464 - accuracy: 0.4257\n",
            "Epoch 45/100\n",
            "130/130 [==============================] - 21s 159ms/step - loss: 1.3322 - accuracy: 0.4228\n",
            "Epoch 46/100\n",
            "130/130 [==============================] - 21s 160ms/step - loss: 1.3408 - accuracy: 0.4248\n",
            "Epoch 47/100\n",
            "130/130 [==============================] - 21s 159ms/step - loss: 1.3163 - accuracy: 0.4307\n",
            "Epoch 48/100\n",
            "130/130 [==============================] - 21s 160ms/step - loss: 1.3296 - accuracy: 0.4185\n",
            "Epoch 49/100\n",
            "130/130 [==============================] - 21s 160ms/step - loss: 1.3044 - accuracy: 0.4308\n",
            "Epoch 50/100\n",
            "130/130 [==============================] - 21s 160ms/step - loss: 1.3153 - accuracy: 0.4509\n",
            "Epoch 51/100\n",
            "130/130 [==============================] - 21s 159ms/step - loss: 1.3084 - accuracy: 0.4320\n",
            "Epoch 52/100\n",
            "130/130 [==============================] - 21s 160ms/step - loss: 1.3215 - accuracy: 0.4327\n",
            "Epoch 53/100\n",
            "130/130 [==============================] - 21s 159ms/step - loss: 1.2708 - accuracy: 0.4434\n",
            "Epoch 54/100\n",
            "130/130 [==============================] - 21s 159ms/step - loss: 1.2830 - accuracy: 0.4493\n",
            "Epoch 55/100\n",
            "130/130 [==============================] - 21s 159ms/step - loss: 1.2593 - accuracy: 0.4662\n",
            "Epoch 56/100\n",
            "130/130 [==============================] - 21s 159ms/step - loss: 1.3064 - accuracy: 0.4409\n",
            "Epoch 57/100\n",
            "130/130 [==============================] - 21s 160ms/step - loss: 1.3014 - accuracy: 0.4343\n",
            "Epoch 58/100\n",
            "130/130 [==============================] - 21s 159ms/step - loss: 1.2446 - accuracy: 0.4628\n",
            "Epoch 59/100\n",
            "130/130 [==============================] - 21s 159ms/step - loss: 1.2851 - accuracy: 0.4522\n",
            "Epoch 60/100\n",
            "130/130 [==============================] - 21s 160ms/step - loss: 1.2644 - accuracy: 0.4607\n",
            "Epoch 61/100\n",
            "130/130 [==============================] - 21s 159ms/step - loss: 1.2424 - accuracy: 0.4798\n",
            "Epoch 62/100\n",
            "130/130 [==============================] - 21s 159ms/step - loss: 1.2344 - accuracy: 0.4895\n",
            "Epoch 63/100\n",
            "130/130 [==============================] - 21s 160ms/step - loss: 1.2379 - accuracy: 0.4826\n",
            "Epoch 64/100\n",
            "130/130 [==============================] - 21s 160ms/step - loss: 1.2253 - accuracy: 0.4727\n",
            "Epoch 65/100\n",
            "130/130 [==============================] - 21s 160ms/step - loss: 1.2109 - accuracy: 0.4905\n",
            "Epoch 66/100\n",
            "130/130 [==============================] - 21s 160ms/step - loss: 1.2512 - accuracy: 0.4605\n",
            "Epoch 67/100\n",
            "130/130 [==============================] - 21s 160ms/step - loss: 1.1823 - accuracy: 0.4948\n",
            "Epoch 68/100\n",
            "130/130 [==============================] - 21s 159ms/step - loss: 1.2198 - accuracy: 0.4896\n",
            "Epoch 69/100\n",
            "130/130 [==============================] - 21s 159ms/step - loss: 1.1940 - accuracy: 0.4941\n",
            "Epoch 70/100\n",
            "130/130 [==============================] - 21s 159ms/step - loss: 1.1903 - accuracy: 0.4920\n",
            "Epoch 71/100\n",
            "130/130 [==============================] - 21s 159ms/step - loss: 1.2133 - accuracy: 0.4879\n",
            "Epoch 72/100\n",
            "130/130 [==============================] - 21s 160ms/step - loss: 1.1820 - accuracy: 0.5049\n",
            "Epoch 73/100\n",
            "130/130 [==============================] - 21s 159ms/step - loss: 1.1686 - accuracy: 0.4932\n",
            "Epoch 74/100\n",
            "130/130 [==============================] - 21s 159ms/step - loss: 1.1701 - accuracy: 0.5083\n",
            "Epoch 75/100\n",
            "130/130 [==============================] - 21s 159ms/step - loss: 1.1888 - accuracy: 0.4971\n",
            "Epoch 76/100\n",
            "130/130 [==============================] - 21s 160ms/step - loss: 1.1818 - accuracy: 0.4994\n",
            "Epoch 77/100\n",
            "130/130 [==============================] - 21s 159ms/step - loss: 1.1674 - accuracy: 0.4920\n",
            "Epoch 78/100\n",
            "130/130 [==============================] - 21s 160ms/step - loss: 1.1569 - accuracy: 0.5171\n",
            "Epoch 79/100\n",
            "130/130 [==============================] - 21s 160ms/step - loss: 1.1574 - accuracy: 0.5128\n",
            "Epoch 80/100\n",
            "130/130 [==============================] - 21s 159ms/step - loss: 1.1562 - accuracy: 0.4987\n",
            "Epoch 81/100\n",
            "130/130 [==============================] - 21s 160ms/step - loss: 1.1199 - accuracy: 0.5308\n",
            "Epoch 82/100\n",
            "130/130 [==============================] - 21s 160ms/step - loss: 1.1614 - accuracy: 0.5118\n",
            "Epoch 83/100\n",
            "130/130 [==============================] - 21s 160ms/step - loss: 1.1247 - accuracy: 0.5154\n",
            "Epoch 84/100\n",
            "130/130 [==============================] - 21s 160ms/step - loss: 1.1364 - accuracy: 0.5232\n",
            "Epoch 85/100\n",
            "130/130 [==============================] - 21s 159ms/step - loss: 1.1663 - accuracy: 0.5104\n",
            "Epoch 86/100\n",
            "130/130 [==============================] - 21s 159ms/step - loss: 1.1575 - accuracy: 0.5022\n",
            "Epoch 87/100\n",
            "130/130 [==============================] - 21s 160ms/step - loss: 1.1357 - accuracy: 0.5419\n",
            "Epoch 88/100\n",
            "130/130 [==============================] - 21s 159ms/step - loss: 1.1341 - accuracy: 0.5298\n",
            "Epoch 89/100\n",
            "130/130 [==============================] - 21s 160ms/step - loss: 1.1439 - accuracy: 0.5040\n",
            "Epoch 90/100\n",
            "130/130 [==============================] - 21s 160ms/step - loss: 1.1116 - accuracy: 0.5225\n",
            "Epoch 91/100\n",
            "130/130 [==============================] - 21s 159ms/step - loss: 1.1316 - accuracy: 0.5244\n",
            "Epoch 92/100\n",
            "130/130 [==============================] - 21s 159ms/step - loss: 1.0970 - accuracy: 0.5556\n",
            "Epoch 93/100\n",
            "130/130 [==============================] - 21s 160ms/step - loss: 1.0905 - accuracy: 0.5323\n",
            "Epoch 94/100\n",
            "130/130 [==============================] - 21s 160ms/step - loss: 1.0688 - accuracy: 0.5456\n",
            "Epoch 95/100\n",
            "130/130 [==============================] - 21s 160ms/step - loss: 1.0781 - accuracy: 0.5620\n",
            "Epoch 96/100\n",
            "130/130 [==============================] - 21s 159ms/step - loss: 1.1024 - accuracy: 0.5478\n",
            "Epoch 97/100\n",
            "130/130 [==============================] - 21s 159ms/step - loss: 1.0766 - accuracy: 0.5434\n",
            "Epoch 98/100\n",
            "130/130 [==============================] - 21s 160ms/step - loss: 1.2011 - accuracy: 0.5499\n",
            "Epoch 99/100\n",
            "130/130 [==============================] - 21s 159ms/step - loss: 1.0951 - accuracy: 0.5342\n",
            "Epoch 100/100\n",
            "130/130 [==============================] - 21s 160ms/step - loss: 1.0498 - accuracy: 0.5456\n"
          ],
          "name": "stdout"
        }
      ]
    },
    {
      "cell_type": "code",
      "metadata": {
        "colab": {
          "base_uri": "https://localhost:8080/"
        },
        "id": "FeuqjbP-IdUK",
        "outputId": "cee88d24-87b9-48ea-f048-70ea1616addc"
      },
      "source": [
        "history_dict = history.history\n",
        "history_dict.keys()\n",
        "[u'accuracy', u'loss']"
      ],
      "execution_count": 20,
      "outputs": [
        {
          "output_type": "execute_result",
          "data": {
            "text/plain": [
              "['accuracy', 'loss']"
            ]
          },
          "metadata": {
            "tags": []
          },
          "execution_count": 20
        }
      ]
    },
    {
      "cell_type": "code",
      "metadata": {
        "id": "gmArHvlsOOAx"
      },
      "source": [
        "import matplotlib.pyplot as plt\n",
        "history_dict = history.history\n",
        "loss_values = history_dict['loss']\n",
        "val_accuracy = history_dict['accuracy']\n",
        "epochs = range(1, len(history_dict['accuracy']) + 1)\n",
        "plt.plot(epochs, loss_values, 'r', label='loss')\n",
        "plt.plot(epochs, val_accuracy, 'b', label='accuracy')\n",
        "plt.title('loss and accuracy')\n",
        "plt.xlabel('Epochs')\n",
        "plt.ylabel('Loss')\n",
        "plt.legend()\n",
        "plt.grid()\n",
        "plt.show()"
      ],
      "execution_count": null,
      "outputs": []
    },
    {
      "cell_type": "code",
      "metadata": {
        "colab": {
          "base_uri": "https://localhost:8080/"
        },
        "id": "jW9_meUSOR7B",
        "outputId": "97f5522c-86f0-4c92-98a7-5f457cfe6c09"
      },
      "source": [
        "network.evaluate(X_test,y_test)"
      ],
      "execution_count": 21,
      "outputs": [
        {
          "output_type": "stream",
          "text": [
            "55/55 [==============================] - 2s 33ms/step - loss: 1.7919 - accuracy: 0.3040\n"
          ],
          "name": "stdout"
        },
        {
          "output_type": "execute_result",
          "data": {
            "text/plain": [
              "[1.7919350862503052, 0.30404624342918396]"
            ]
          },
          "metadata": {
            "tags": []
          },
          "execution_count": 21
        }
      ]
    },
    {
      "cell_type": "code",
      "metadata": {
        "colab": {
          "base_uri": "https://localhost:8080/"
        },
        "id": "dflAjnYCOUzq",
        "outputId": "6118ac7c-0112-4df6-bef2-13359b9f7f74"
      },
      "source": [
        "pred = network.predict_classes(X_test[:10])\n",
        "for i in range(len(pred)):\n",
        "    print(pred[i],'==>',y_test[i])"
      ],
      "execution_count": 22,
      "outputs": [
        {
          "output_type": "stream",
          "text": [
            "0 ==> [0. 0. 0. 1. 0.]\n",
            "1 ==> [0. 0. 1. 0. 0.]\n",
            "1 ==> [0. 0. 1. 0. 0.]\n",
            "4 ==> [0. 0. 0. 0. 1.]\n",
            "4 ==> [0. 0. 0. 0. 1.]\n",
            "4 ==> [0. 0. 1. 0. 0.]\n",
            "2 ==> [0. 1. 0. 0. 0.]\n",
            "2 ==> [0. 1. 0. 0. 0.]\n",
            "1 ==> [0. 0. 1. 0. 0.]\n",
            "2 ==> [1. 0. 0. 0. 0.]\n"
          ],
          "name": "stdout"
        },
        {
          "output_type": "stream",
          "text": [
            "/usr/local/lib/python3.7/dist-packages/tensorflow/python/keras/engine/sequential.py:450: UserWarning: `model.predict_classes()` is deprecated and will be removed after 2021-01-01. Please use instead:* `np.argmax(model.predict(x), axis=-1)`,   if your model does multi-class classification   (e.g. if it uses a `softmax` last-layer activation).* `(model.predict(x) > 0.5).astype(\"int32\")`,   if your model does binary classification   (e.g. if it uses a `sigmoid` last-layer activation).\n",
            "  warnings.warn('`model.predict_classes()` is deprecated and '\n"
          ],
          "name": "stderr"
        }
      ]
    }
  ]
}